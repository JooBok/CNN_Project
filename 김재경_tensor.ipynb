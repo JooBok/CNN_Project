{
 "cells": [
  {
   "cell_type": "markdown",
   "metadata": {},
   "source": [
    "## Libraries"
   ]
  },
  {
   "cell_type": "code",
   "execution_count": 59,
   "metadata": {},
   "outputs": [],
   "source": [
    "import os\n",
    "import pandas as pd\n",
    "import numpy as np\n",
    "\n",
    "import warnings\n",
    "warnings.filterwarnings(\"ignore\")\n",
    "\n",
    "from random import shuffle\n",
    "import cv2 as cv\n",
    "\n",
    "\n",
    "import matplotlib.pyplot as plt\n",
    "\n",
    "# model\n",
    "from sklearn.preprocessing import LabelEncoder\n",
    "label_encoder = LabelEncoder()\n",
    "import tensorflow as tf\n",
    "from tensorflow.keras.models import Sequential\n",
    "from tensorflow.keras.layers import (Conv2D, \n",
    "                                     MaxPooling2D, \n",
    "                                     Flatten, \n",
    "                                     Dense, \n",
    "                                     BatchNormalization, \n",
    "                                     Dropout\n",
    "                                     )\n",
    "from tensorflow.keras.optimizers import Adam"
   ]
  },
  {
   "cell_type": "markdown",
   "metadata": {},
   "source": [
    "## Read the Data"
   ]
  },
  {
   "cell_type": "code",
   "execution_count": null,
   "metadata": {},
   "outputs": [],
   "source": [
    "cur_dir = os.getcwd()\n",
    "\n",
    "for root, dirs, files in os.walk(cur_dir):\n",
    "    if \"archive\" in root:\n",
    "        print(root, files)"
   ]
  },
  {
   "cell_type": "code",
   "execution_count": 3,
   "metadata": {},
   "outputs": [],
   "source": [
    "img_path = \"./archive/images/\"\n",
    "img_list = os.listdir(img_path)"
   ]
  },
  {
   "cell_type": "code",
   "execution_count": 4,
   "metadata": {},
   "outputs": [],
   "source": [
    "def load_train_img(df):\n",
    "    train_img = list()\n",
    "    test_img = list()\n",
    "    \n",
    "    for _ in range(0, int(len(df) * 0.8)):\n",
    "        try:\n",
    "            label = df.label[_]\n",
    "            img = cv.resize(cv.imread(df.path[_]), (64, 64))\n",
    "            img = cv.cvtColor(img, cv.COLOR_BGR2RGB)\n",
    "            train_img.append([np.array(img) / 255.0, np.array(label)])\n",
    "        except:\n",
    "            pass\n",
    "    for _ in range(int(len(df) * 0.8) + 1, len(df)):\n",
    "        try:\n",
    "            label = df.label[_]\n",
    "            img = cv.resize(cv.imread(df.path[_]), (64, 64))\n",
    "            img = cv.cvtColor(img, cv.COLOR_BGR2RGB)\n",
    "            test_img.append([np.array(img) / 255.0, np.array(label)])\n",
    "        except:\n",
    "            pass\n",
    "\n",
    "    return train_img, test_img"
   ]
  },
  {
   "cell_type": "code",
   "execution_count": 51,
   "metadata": {},
   "outputs": [],
   "source": [
    "df = pd.read_csv(cur_dir + \"/archive/styles.csv\").drop(columns = {\"Unnamed: 10\", \"Unnamed: 11\"})"
   ]
  },
  {
   "cell_type": "code",
   "execution_count": 52,
   "metadata": {},
   "outputs": [],
   "source": [
    "### 필주님 전처리 ###\n",
    "\n",
    "df.loc[df['subCategory'].isin(['Sandal', 'Flip Flops']), 'subCategory'] = 'Shoes'\n",
    "df.loc[df['subCategory'].isin(['Dress']), 'subCategory'] = 'Topwear'\n",
    "df2 = df[df['subCategory'].isin(['Topwear', 'Shoes', 'Bags','Bottomwear', 'Watches', 'Innerwear', 'Eyewear', 'Wallets', 'Belts'])]\n",
    "label_df = df2[['id','subCategory']].rename(columns = {'subCategory':'label'})"
   ]
  },
  {
   "cell_type": "code",
   "execution_count": 53,
   "metadata": {},
   "outputs": [],
   "source": [
    "### id에 맞는 path 를 dataframe 형식으로 만들기 ###\n",
    "label_df[\"path\"] = 0    \n",
    "for _ in range(60000):\n",
    "    try:\n",
    "        label_df[\"path\"][_] = img_path + str(label_df[\"id\"][_]) + \".jpg\"\n",
    "    except:\n",
    "        pass\n",
    "label_df.drop(columns = \"id\", inplace = True)\n",
    "\n",
    "### 라벨 인코딩 ###\n",
    "label = label_encoder.fit_transform(label_df.label)\n",
    "label_df[\"label\"] = label"
   ]
  },
  {
   "cell_type": "code",
   "execution_count": 55,
   "metadata": {},
   "outputs": [],
   "source": [
    "train_img, test_img = load_train_img(label_df)"
   ]
  },
  {
   "cell_type": "code",
   "execution_count": 57,
   "metadata": {},
   "outputs": [
    {
     "name": "stdout",
     "output_type": "stream",
     "text": [
      "=============\n",
      "Dataset\n",
      "=============\n",
      "train: 26001\n",
      "test: 6465\n"
     ]
    }
   ],
   "source": [
    "print(f\"=============\\nDataset\\n=============\\ntrain: {len(train_img)}\\ntest: {len(test_img)}\")"
   ]
  },
  {
   "cell_type": "code",
   "execution_count": 60,
   "metadata": {},
   "outputs": [
    {
     "name": "stdout",
     "output_type": "stream",
     "text": [
      "Epoch 1/10\n",
      "WARNING:tensorflow:From c:\\Users\\user\\Documents\\DataEngineering_Draft\\kdt7\\Lib\\site-packages\\keras\\src\\utils\\tf_utils.py:492: The name tf.ragged.RaggedTensorValue is deprecated. Please use tf.compat.v1.ragged.RaggedTensorValue instead.\n",
      "\n",
      "WARNING:tensorflow:From c:\\Users\\user\\Documents\\DataEngineering_Draft\\kdt7\\Lib\\site-packages\\keras\\src\\engine\\base_layer_utils.py:384: The name tf.executing_eagerly_outside_functions is deprecated. Please use tf.compat.v1.executing_eagerly_outside_functions instead.\n",
      "\n",
      "204/204 [==============================] - 106s 509ms/step - loss: 14.6904 - accuracy: 0.8241 - val_loss: 13.9983 - val_accuracy: 0.3425\n",
      "Epoch 2/10\n",
      "204/204 [==============================] - 104s 508ms/step - loss: 11.0337 - accuracy: 0.9344 - val_loss: 10.2431 - val_accuracy: 0.7657\n",
      "Epoch 3/10\n",
      "204/204 [==============================] - 105s 514ms/step - loss: 8.1109 - accuracy: 0.9523 - val_loss: 6.9873 - val_accuracy: 0.9258\n",
      "Epoch 4/10\n",
      "204/204 [==============================] - 105s 513ms/step - loss: 5.9051 - accuracy: 0.9600 - val_loss: 5.0593 - val_accuracy: 0.9411\n",
      "Epoch 5/10\n",
      "204/204 [==============================] - 104s 508ms/step - loss: 4.2808 - accuracy: 0.9643 - val_loss: 3.6391 - val_accuracy: 0.9601\n",
      "Epoch 6/10\n",
      "204/204 [==============================] - 104s 511ms/step - loss: 3.1044 - accuracy: 0.9678 - val_loss: 2.6941 - val_accuracy: 0.9570\n",
      "Epoch 7/10\n",
      "204/204 [==============================] - 104s 509ms/step - loss: 2.2953 - accuracy: 0.9693 - val_loss: 1.9946 - val_accuracy: 0.9613\n",
      "Epoch 8/10\n",
      "204/204 [==============================] - 104s 510ms/step - loss: 1.7195 - accuracy: 0.9718 - val_loss: 1.6160 - val_accuracy: 0.9442\n",
      "Epoch 9/10\n",
      "204/204 [==============================] - 104s 509ms/step - loss: 1.2995 - accuracy: 0.9746 - val_loss: 1.2125 - val_accuracy: 0.9555\n",
      "Epoch 10/10\n",
      "204/204 [==============================] - 103s 507ms/step - loss: 1.0747 - accuracy: 0.9714 - val_loss: 0.9505 - val_accuracy: 0.9712\n"
     ]
    }
   ],
   "source": [
    "train_images = np.array([item[0] for item in train_img])\n",
    "train_labels = np.array([item[1] for item in train_img])\n",
    "test_images = np.array([item[0] for item in test_img])\n",
    "test_labels = np.array([item[1] for item in test_img])\n",
    "\n",
    "train_dataset = tf.data.Dataset.from_tensor_slices((train_images, train_labels))\n",
    "train_dataset = train_dataset.shuffle(64).batch(128) \n",
    "\n",
    "test_dataset = tf.data.Dataset.from_tensor_slices((test_images, test_labels))\n",
    "test_dataset = test_dataset.batch(1000)\n",
    "\n",
    "model = Sequential([\n",
    "    ### layer 1 ###\n",
    "    Conv2D(64, (3, 3), activation = 'relu', padding = 'same', input_shape = (64, 64, 3)),\n",
    "    BatchNormalization(),\n",
    "    MaxPooling2D((2, 2), strides = (2, 2)),\n",
    "    Dropout(0.2),\n",
    "    ### layer 2 ###\n",
    "    Conv2D(128, (3, 3), activation = 'relu', padding = 'same', kernel_regularizer = tf.keras.regularizers.l2(0.001)),\n",
    "    BatchNormalization(),\n",
    "    MaxPooling2D((2, 2), strides=(2, 2)),\n",
    "    Dropout(0.2),\n",
    "    ### layer 3 ###\n",
    "    Conv2D(256, (3, 3), activation = 'relu', padding = 'same', kernel_regularizer = tf.keras.regularizers.l2(0.005)),\n",
    "    BatchNormalization(),\n",
    "    MaxPooling2D((2, 2), strides=(2, 2)),\n",
    "    Dropout(0.2),\n",
    "    ### layer 4 ###\n",
    "    Conv2D(512, (3, 3), activation = 'relu', padding = 'same', kernel_regularizer = tf.keras.regularizers.l2(0.01)),\n",
    "    BatchNormalization(),\n",
    "    MaxPooling2D((2, 2), strides = (2, 2)),\n",
    "    Dropout(0.2),\n",
    "    ### layer 5 ###\n",
    "    Conv2D(512, (3, 3), activation = 'relu', padding = 'same', kernel_regularizer = tf.keras.regularizers.l2(0.005)),\n",
    "    BatchNormalization(),\n",
    "    MaxPooling2D((2, 2), strides = (2, 2)),\n",
    "    Dropout(0.2),\n",
    "    ### layer 6 ###\n",
    "    Conv2D(512, (3, 3), activation = 'relu', padding = 'same', kernel_regularizer = tf.keras.regularizers.l2(0.01)),\n",
    "    BatchNormalization(),\n",
    "    MaxPooling2D((2, 2), strides = (2, 2)),\n",
    "    Dropout(0.2),\n",
    "    \n",
    "    Flatten(),\n",
    "    Dense(256, activation = 'relu', kernel_regularizer = tf.keras.regularizers.l2(0.005)),\n",
    "    BatchNormalization(),\n",
    "    Dropout(0.2),\n",
    "  \n",
    "    Dense(512, activation='relu', kernel_regularizer = tf.keras.regularizers.l2(0.005)),\n",
    "    BatchNormalization(),\n",
    "    Dropout(0.2),\n",
    "    Dense(9, activation = 'softmax')\n",
    "])\n",
    "\n",
    "### 과적합으로 보여 추가 ###\n",
    "optimizer = Adam(learning_rate=0.0002)\n",
    "\n",
    "model.compile(optimizer = optimizer,\n",
    "              loss = 'sparse_categorical_crossentropy',\n",
    "              metrics = ['accuracy'])\n",
    "\n",
    "history = model.fit(train_dataset, epochs = 10, validation_data = test_dataset, verbose = 1)"
   ]
  },
  {
   "cell_type": "code",
   "execution_count": 61,
   "metadata": {},
   "outputs": [
    {
     "data": {
      "image/png": "[encoded data removed]",
      "text/plain": [
       "<Figure size 1200x400 with 2 Axes>"
      ]
     },
     "metadata": {},
     "output_type": "display_data"
    }
   ],
   "source": [
    "### 시각화 ###\n",
    "\n",
    "train_loss = history.history['loss']\n",
    "val_loss = history.history['val_loss']\n",
    "train_accuracy = history.history['accuracy']\n",
    "val_accuracy = history.history['val_accuracy']\n",
    "\n",
    "epochs = range(1, len(train_loss) + 1)\n",
    "\n",
    "plt.figure(figsize=(12, 4))\n",
    "\n",
    "# Loss 그래프\n",
    "plt.subplot(1, 2, 1)\n",
    "plt.plot(epochs, train_loss, 'bo', label='Training loss')\n",
    "plt.plot(epochs, val_loss, 'b', label='Validation loss')\n",
    "plt.title('Training and validation loss')\n",
    "plt.xlabel('Epochs')\n",
    "plt.ylabel('Loss')\n",
    "plt.legend()\n",
    "\n",
    "# Accuracy 그래프\n",
    "plt.subplot(1, 2, 2)\n",
    "plt.plot(epochs, train_accuracy, 'bo', label='Training accuracy')\n",
    "plt.plot(epochs, val_accuracy, 'b', label='Validation accuracy')\n",
    "plt.title('Training and validation accuracy')\n",
    "plt.xlabel('Epochs')\n",
    "plt.ylabel('Accuracy')\n",
    "plt.legend()\n",
    "\n",
    "plt.show()"
   ]
  }
 ],
 "metadata": {
  "kernelspec": {
   "display_name": "Python 3",
   "language": "python",
   "name": "python3"
  },
  "language_info": {
   "codemirror_mode": {
    "name": "ipython",
    "version": 3
   },
   "file_extension": ".py",
   "mimetype": "text/x-python",
   "name": "python",
   "nbconvert_exporter": "python",
   "pygments_lexer": "ipython3",
   "version": "3.11.5"
  }
 },
 "nbformat": 4,
 "nbformat_minor": 2
}
